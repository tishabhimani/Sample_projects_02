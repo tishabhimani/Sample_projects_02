{
 "cells": [
  {
   "cell_type": "code",
   "execution_count": 3,
   "id": "31fa5adf-c80f-42b9-b2ca-9455a5c7a791",
   "metadata": {},
   "outputs": [
    {
     "name": "stdout",
     "output_type": "stream",
     "text": [
      "Welcome our Python Caffe\n"
     ]
    },
    {
     "name": "stdin",
     "output_type": "stream",
     "text": [
      "Enter your name here:  Tisha\n",
      "Enter the day:  Friday\n"
     ]
    },
    {
     "name": "stdout",
     "output_type": "stream",
     "text": [
      "You will get 10% discount!\n",
      "\n",
      "Menu:\n",
      "Coffee: 50 Rupees\n",
      "Tea: 30 Rupees\n",
      "Sandwich: 100 Rupees\n",
      "Burger: 150 Rupees\n",
      "Pizza: 200 Rupees\n"
     ]
    },
    {
     "name": "stdin",
     "output_type": "stream",
     "text": [
      "Enter the item you want to order (or type 'Done' to finish):  Coffee\n"
     ]
    },
    {
     "name": "stdout",
     "output_type": "stream",
     "text": [
      "Coffee added to your order.\n"
     ]
    },
    {
     "name": "stdin",
     "output_type": "stream",
     "text": [
      "Enter the item you want to order (or type 'Done' to finish):  Tea\n"
     ]
    },
    {
     "name": "stdout",
     "output_type": "stream",
     "text": [
      "Tea added to your order.\n"
     ]
    },
    {
     "name": "stdin",
     "output_type": "stream",
     "text": [
      "Enter the item you want to order (or type 'Done' to finish):  Done\n"
     ]
    },
    {
     "name": "stdout",
     "output_type": "stream",
     "text": [
      "\n",
      "Total order is: 72.0 Rupees.\n"
     ]
    }
   ],
   "source": [
    "#mini project 1\n",
    "import numpy as np\n",
    "print(\"Welcome our Python Caffe\")\n",
    "# Food menu\n",
    "name = input(\"Enter your name here: \")\n",
    "\n",
    "# Discount for Friday\n",
    "day = {\n",
    "    \"Monday\": 1, \"Tuesday\": 2, \"Wednesday\": 3, \"Thursday\": 4, \"Friday\": 5, \"Saturday\": 6, \"Sunday\": 7\n",
    "}\n",
    "today = input(\"Enter the day: \").capitalize()\n",
    "\n",
    "if today == \"Friday\":\n",
    "    print(\"You will get 10% discount!\")\n",
    "else:\n",
    "    print(\"Enjoy the vibe with food\")\n",
    "\n",
    "# Menu\n",
    "menu = {\n",
    "    \"Coffee\": 50,\n",
    "    \"Tea\": 30,\n",
    "    \"Sandwich\": 100,\n",
    "    \"Burger\": 150,\n",
    "    \"Pizza\": 200\n",
    "}\n",
    "print(\"\\nMenu:\")\n",
    "for item, price in menu.items():\n",
    "    print(f\"{item}: {price} Rupees\")\n",
    "\n",
    "# Order process\n",
    "order_total = 0\n",
    "order = \"\"\n",
    "\n",
    "while order != \"Done\":\n",
    "    order = input(\"Enter the item you want to order (or type 'Done' to finish): \").title()\n",
    "\n",
    "    # Check if the order is valid (and not \"Done\")\n",
    "    if order != \"Done\" and order in menu:\n",
    "        order_total += menu[order]\n",
    "        print(f\"{order} added to your order.\")\n",
    "    elif order != \"Done\":\n",
    "        print(\"Sorry, we don't have that item on the menu.\")\n",
    "\n",
    "# Apply discount if it's Friday\n",
    "if today == \"Friday\":\n",
    "    order_total *= 0.9  # 10% discount\n",
    "\n",
    "# Print the final total bill\n",
    "print(f\"\\nTotal order is: {order_total} Rupees.\")"
   ]
  },
  {
   "cell_type": "code",
   "execution_count": 5,
   "id": "1c292c1b-67d3-4a72-a4e3-502e1fe94ce1",
   "metadata": {},
   "outputs": [
    {
     "name": "stdout",
     "output_type": "stream",
     "text": [
      "Welcome to RPS Game\n"
     ]
    },
    {
     "name": "stdin",
     "output_type": "stream",
     "text": [
      "Rock, Paper, or Scissors? (R/P/S):  R\n"
     ]
    },
    {
     "name": "stdout",
     "output_type": "stream",
     "text": [
      "You choose R\n",
      "Computer chooses S\n",
      "You Win\n"
     ]
    },
    {
     "name": "stdin",
     "output_type": "stream",
     "text": [
      "Continue? (Yes/No):  No\n"
     ]
    }
   ],
   "source": [
    "#mini project 2\n",
    "#rock paper scissor Game\n",
    "import random\n",
    "print(\"Welcome to RPS Game\")\n",
    "choices = [\"R\", \"P\", \"S\"]\n",
    "\n",
    "while True:\n",
    "    your_choice = input(\"Rock, Paper, or Scissors? (R/P/S): \").capitalize()\n",
    "    \n",
    "    # Check if the user's choice is valid\n",
    "    if your_choice not in choices:\n",
    "        print(\"Invalid choice\")\n",
    "        continue \n",
    "\n",
    "    # Randomly choose for the computer\n",
    "    computer_choice = random.choice(choices)\n",
    "    print(\"You choose\", your_choice)\n",
    "    print(\"Computer chooses\", computer_choice)\n",
    "\n",
    "    # Determine the result of the game\n",
    "    if your_choice == computer_choice:\n",
    "        print(\"Tie\")\n",
    "    elif (your_choice == \"R\" and computer_choice == \"S\") or (your_choice == \"S\" and computer_choice == \"P\") or (your_choice == \"P\" and computer_choice == \"R\"):\n",
    "        print(\"You Win\")\n",
    "    else:\n",
    "        print(\"You Lose\")\n",
    "\n",
    "    # Ask if the user wants to continue\n",
    "    should_continue = input(\"Continue? (Yes/No): \").capitalize()\n",
    "\n",
    "    # If the user chooses \"No\", break the loop and stop the game\n",
    "    if should_continue == \"No\":\n",
    "        break\n"
   ]
  },
  {
   "cell_type": "code",
   "execution_count": null,
   "id": "9e3dd3bc-bd5c-4895-9a0c-3b1bf45e507b",
   "metadata": {},
   "outputs": [],
   "source": []
  }
 ],
 "metadata": {
  "kernelspec": {
   "display_name": "Python 3 (ipykernel)",
   "language": "python",
   "name": "python3"
  },
  "language_info": {
   "codemirror_mode": {
    "name": "ipython",
    "version": 3
   },
   "file_extension": ".py",
   "mimetype": "text/x-python",
   "name": "python",
   "nbconvert_exporter": "python",
   "pygments_lexer": "ipython3",
   "version": "3.12.4"
  }
 },
 "nbformat": 4,
 "nbformat_minor": 5
}
